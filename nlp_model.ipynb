{
 "cells": [
  {
   "cell_type": "markdown",
   "id": "e313aaba-b815-4812-99bd-17c129f4af55",
   "metadata": {},
   "source": [
    "# NLP Speech Sentiment Analysis: Model"
   ]
  },
  {
   "cell_type": "markdown",
   "id": "1c165ae3-b65e-4ab9-b810-54e50c43ada0",
   "metadata": {},
   "source": [
    "#### Import libraries"
   ]
  },
  {
   "cell_type": "code",
   "execution_count": 1,
   "id": "661e66fd-33eb-4fa1-814f-fa34eb7633c6",
   "metadata": {},
   "outputs": [],
   "source": [
    "import pandas as pd\n",
    "import numpy as np\n",
    "import seaborn as sns\n",
    "import matplotlib.pyplot as plt\n",
    "#import re\n",
    "#import nltk\n",
    "#from nltk.tokenize import word_tokenize\n",
    "#from collections import Counter\n",
    "from tensorflow.keras.preprocessing.text import Tokenizer\n",
    "from sklearn.model_selection import train_test_split\n",
    "from tensorflow.keras.preprocessing.sequence import pad_sequences\n",
    "from keras.models import Sequential\n",
    "from keras.layers import Embedding, LSTM, Bidirectional, Dense, Dropout, BatchNormalization\n",
    "from keras.callbacks import ModelCheckpoint, EarlyStopping, ReduceLROnPlateau\n",
    "from sklearn.metrics import precision_score, recall_score, f1_score, confusion_matrix, classification_report\n",
    "\n",
    "\n",
    "#from keras.preprocessing import sequence\n",
    "\n",
    "#from tensorflow.keras.models import Sequential\n",
    "#from tensorflow.keras.layers import *\n",
    "#from tensorflow.keras.preprocessing.sequence import pad_sequences\n",
    "#from nltk.corpus import stopwords\n",
    "#from nltk.stem import PorterStemmer\n",
    "\n",
    "#from sklearn.model_selection import train_test_split"
   ]
  },
  {
   "cell_type": "markdown",
   "id": "a8654e21-244a-47ae-a60d-28c1bb55f6cf",
   "metadata": {},
   "source": [
    "#### Import datasets"
   ]
  },
  {
   "cell_type": "code",
   "execution_count": 2,
   "id": "6546119d-bd1d-45e7-971f-55d25fe12f4b",
   "metadata": {},
   "outputs": [],
   "source": [
    "# Import preprocessed datasets ('data_preprocess.ipynb')\n",
    "\n",
    "# Preprocessed version of GoEmotions: A Dataset of Fine-Grained Emotions (GoEmotions 1, 2, and 3 merged)\n",
    "# Reference: Demszky, Dorottya and Movshovitz-Attias, Dana and Ko, Jeongwoo and Cowen, Alan and Nemade, Gaurav and Ravi, Sujith, https://github.com/google-re\n",
    "goe = pd.read_csv('data/goe_merged.csv')\n",
    "\n",
    "# Preprocessed version of Emotion Classification dataset\n",
    "# Reference: https://www.kaggle.com/datasets/abdallahwagih/emotion-dataset\n",
    "ed = pd.read_csv('data/ed.csv')\n",
    "\n",
    "# Preprocessed version of Emotions dataset\n",
    "# Reference: https://www.kaggle.com/datasets/nelgiriyewithana/emotions\n",
    "emo = pd.read_csv('data/emo.csv')\n",
    "\n",
    "# Preprocessed version of Sentiment140 dataset \n",
    "# Reference: https://www.kaggle.com/datasets/kazanova/sentiment140\n",
    "twit = pd.read_csv('data/sent.csv')"
   ]
  },
  {
   "cell_type": "markdown",
   "id": "f77835ba-97ef-449e-af23-a332154d56e2",
   "metadata": {},
   "source": [
    "## Helper functions"
   ]
  },
  {
   "cell_type": "markdown",
   "id": "085180a7-49bc-462d-83ad-6e80064142b2",
   "metadata": {},
   "source": [
    "## Preprocessing"
   ]
  },
  {
   "cell_type": "code",
   "execution_count": 3,
   "id": "ea971401-a710-405f-bd6e-1084199bb765",
   "metadata": {},
   "outputs": [
    {
     "data": {
      "text/html": [
       "<div>\n",
       "<style scoped>\n",
       "    .dataframe tbody tr th:only-of-type {\n",
       "        vertical-align: middle;\n",
       "    }\n",
       "\n",
       "    .dataframe tbody tr th {\n",
       "        vertical-align: top;\n",
       "    }\n",
       "\n",
       "    .dataframe thead th {\n",
       "        text-align: right;\n",
       "    }\n",
       "</style>\n",
       "<table border=\"1\" class=\"dataframe\">\n",
       "  <thead>\n",
       "    <tr style=\"text-align: right;\">\n",
       "      <th></th>\n",
       "      <th>text</th>\n",
       "      <th>Emotion</th>\n",
       "    </tr>\n",
       "  </thead>\n",
       "  <tbody>\n",
       "    <tr>\n",
       "      <th>0</th>\n",
       "      <td>that game hurt</td>\n",
       "      <td>sadness</td>\n",
       "    </tr>\n",
       "    <tr>\n",
       "      <th>1</th>\n",
       "      <td>so happy for name so sad hes not here imagine ...</td>\n",
       "      <td>disgust</td>\n",
       "    </tr>\n",
       "    <tr>\n",
       "      <th>2</th>\n",
       "      <td>sending love and strength vibes</td>\n",
       "      <td>joy</td>\n",
       "    </tr>\n",
       "    <tr>\n",
       "      <th>3</th>\n",
       "      <td>no were getting kinsler and be happy with it</td>\n",
       "      <td>joy</td>\n",
       "    </tr>\n",
       "    <tr>\n",
       "      <th>4</th>\n",
       "      <td>omg lala a housewife i cant even imagine</td>\n",
       "      <td>surprise</td>\n",
       "    </tr>\n",
       "    <tr>\n",
       "      <th>...</th>\n",
       "      <td>...</td>\n",
       "      <td>...</td>\n",
       "    </tr>\n",
       "    <tr>\n",
       "      <th>827760</th>\n",
       "      <td>mshiphop im glad ur doing well</td>\n",
       "      <td>joy</td>\n",
       "    </tr>\n",
       "    <tr>\n",
       "      <th>827761</th>\n",
       "      <td>rmedina latati mmmm that sounds absolutely per...</td>\n",
       "      <td>disgust</td>\n",
       "    </tr>\n",
       "    <tr>\n",
       "      <th>827762</th>\n",
       "      <td>cliffforster yeah that does work better than j...</td>\n",
       "      <td>surprise</td>\n",
       "    </tr>\n",
       "    <tr>\n",
       "      <th>827763</th>\n",
       "      <td>happy th birthday to my boo of alll time tupac...</td>\n",
       "      <td>joy</td>\n",
       "    </tr>\n",
       "    <tr>\n",
       "      <th>827764</th>\n",
       "      <td>happy charitytuesday thenspcc sparkscharity sp...</td>\n",
       "      <td>joy</td>\n",
       "    </tr>\n",
       "  </tbody>\n",
       "</table>\n",
       "<p>827765 rows × 2 columns</p>\n",
       "</div>"
      ],
      "text/plain": [
       "                                                     text   Emotion\n",
       "0                                          that game hurt   sadness\n",
       "1       so happy for name so sad hes not here imagine ...   disgust\n",
       "2                        sending love and strength vibes        joy\n",
       "3            no were getting kinsler and be happy with it       joy\n",
       "4                omg lala a housewife i cant even imagine  surprise\n",
       "...                                                   ...       ...\n",
       "827760                    mshiphop im glad ur doing well        joy\n",
       "827761  rmedina latati mmmm that sounds absolutely per...   disgust\n",
       "827762  cliffforster yeah that does work better than j...  surprise\n",
       "827763  happy th birthday to my boo of alll time tupac...       joy\n",
       "827764  happy charitytuesday thenspcc sparkscharity sp...       joy\n",
       "\n",
       "[827765 rows x 2 columns]"
      ]
     },
     "execution_count": 3,
     "metadata": {},
     "output_type": "execute_result"
    }
   ],
   "source": [
    "# Concatenate all datasets\n",
    "df = pd.concat([goe, ed, emo, twit], ignore_index=True)\n",
    "\n",
    "# Display dataframe summary\n",
    "df"
   ]
  },
  {
   "cell_type": "code",
   "execution_count": 4,
   "id": "18e6088e-0fc0-498a-8adf-2ec08bcd82fb",
   "metadata": {},
   "outputs": [
    {
     "data": {
      "text/html": [
       "<div>\n",
       "<style scoped>\n",
       "    .dataframe tbody tr th:only-of-type {\n",
       "        vertical-align: middle;\n",
       "    }\n",
       "\n",
       "    .dataframe tbody tr th {\n",
       "        vertical-align: top;\n",
       "    }\n",
       "\n",
       "    .dataframe thead th {\n",
       "        text-align: right;\n",
       "    }\n",
       "</style>\n",
       "<table border=\"1\" class=\"dataframe\">\n",
       "  <thead>\n",
       "    <tr style=\"text-align: right;\">\n",
       "      <th></th>\n",
       "      <th>text</th>\n",
       "      <th>Emotion</th>\n",
       "    </tr>\n",
       "  </thead>\n",
       "  <tbody>\n",
       "    <tr>\n",
       "      <th>0</th>\n",
       "      <td>that game hurt</td>\n",
       "      <td>4</td>\n",
       "    </tr>\n",
       "    <tr>\n",
       "      <th>1</th>\n",
       "      <td>so happy for name so sad hes not here imagine ...</td>\n",
       "      <td>0</td>\n",
       "    </tr>\n",
       "    <tr>\n",
       "      <th>2</th>\n",
       "      <td>sending love and strength vibes</td>\n",
       "      <td>3</td>\n",
       "    </tr>\n",
       "    <tr>\n",
       "      <th>3</th>\n",
       "      <td>no were getting kinsler and be happy with it</td>\n",
       "      <td>3</td>\n",
       "    </tr>\n",
       "    <tr>\n",
       "      <th>4</th>\n",
       "      <td>omg lala a housewife i cant even imagine</td>\n",
       "      <td>5</td>\n",
       "    </tr>\n",
       "  </tbody>\n",
       "</table>\n",
       "</div>"
      ],
      "text/plain": [
       "                                                text  Emotion\n",
       "0                                     that game hurt        4\n",
       "1  so happy for name so sad hes not here imagine ...        0\n",
       "2                   sending love and strength vibes         3\n",
       "3       no were getting kinsler and be happy with it        3\n",
       "4           omg lala a housewife i cant even imagine        5"
      ]
     },
     "execution_count": 4,
     "metadata": {},
     "output_type": "execute_result"
    }
   ],
   "source": [
    "# Map string emotions to integer label values\n",
    "# Emotion mapping dictionary\n",
    "emotion_map = {'disgust': 0, 'fear': 1, 'anger': 2, 'joy': 3, 'sadness': 4, 'surprise': 5}\n",
    "\n",
    "# Apply integer mapping to the 'Emotion' column\n",
    "df['Emotion'] = df['Emotion'].map(emotion_map)\n",
    "\n",
    "# Display head of dataframe\n",
    "df.head()"
   ]
  },
  {
   "cell_type": "code",
   "execution_count": 5,
   "id": "55230192-436b-4461-814a-e583debb7acb",
   "metadata": {},
   "outputs": [
    {
     "name": "stdout",
     "output_type": "stream",
     "text": [
      "Vocabulary size:  277797\n",
      "seq_length:  178\n",
      "Training shape:\n",
      "X_train: (662212, 178), y_train: (662212,)\n",
      "Test shape:\n",
      "X_test: (165553, 178), y_test: (165553,)\n"
     ]
    }
   ],
   "source": [
    "# Split data into texts and emotion labels\n",
    "texts = df['text']\n",
    "emotions = df['Emotion']\n",
    "\n",
    "# Train-test split\n",
    "x_train, x_test, y_train, y_test = train_test_split(texts, emotions, test_size=0.2, random_state=42, shuffle=True)\n",
    "\n",
    "# Initialize tokenizer, fit on the training data, and convert text data to sequences\n",
    "tokenizer = Tokenizer(num_words=100000, oov_token=\"<OOV>\")   # Tokenize with all words included \n",
    "tokenizer.fit_on_texts(x_train)                              # Fit tokenizer\n",
    "vocabulary_size = len(tokenizer.word_index)                  # Get the vocabulary size\n",
    "print(\"Vocabulary size: \", vocabulary_size)                  # Print the vocabulary size\n",
    "tokenizer_train_seq = tokenizer.texts_to_sequences(x_train)  # Converts x_train text to sequences\n",
    "tokenizer_test_seq = tokenizer.texts_to_sequences(x_test)    # Converts x_test text to sequences\n",
    "\n",
    "# Determine the maximum length of the x_train sequence for padding and input shape \n",
    "seq_length = max(map(len, tokenizer_train_seq))              # Max length\n",
    "print(\"seq_length: \", seq_length)                            # Print max length\n",
    "\n",
    "# Pad sequences (ensures uniform length)\n",
    "X_train = pad_sequences(tokenizer_train_seq, maxlen=seq_length, padding='post', truncating='post')  # Pad x_train sequence\n",
    "X_test = pad_sequences(tokenizer_test_seq, maxlen=seq_length, padding='post', truncating='post')    # Pad x_testt sequence\n",
    "\n",
    "# Print shapes of training and test data\n",
    "print(f\"Training shape:\")\n",
    "print(f\"X_train: {X_train.shape}, y_train: {y_train.shape}\")\n",
    "print(f\"Test shape:\")\n",
    "print(f\"X_test: {X_test.shape}, y_test: {y_test.shape}\")"
   ]
  },
  {
   "cell_type": "markdown",
   "id": "89c4e323-e987-48ee-9aff-ef6710925d7b",
   "metadata": {},
   "source": [
    "## Build model"
   ]
  },
  {
   "cell_type": "code",
   "execution_count": 6,
   "id": "dce4f59c-9683-46f5-bbaa-48d706b2d761",
   "metadata": {},
   "outputs": [
    {
     "name": "stdout",
     "output_type": "stream",
     "text": [
      "Model: \"sequential\"\n",
      "_________________________________________________________________\n",
      " Layer (type)                Output Shape              Param #   \n",
      "=================================================================\n",
      " embedding (Embedding)       (None, 178, 256)          71116288  \n",
      "                                                                 \n",
      " bidirectional (Bidirectiona  (None, 512)              1050624   \n",
      " l)                                                              \n",
      "                                                                 \n",
      " batch_normalization (BatchN  (None, 512)              2048      \n",
      " ormalization)                                                   \n",
      "                                                                 \n",
      " dropout (Dropout)           (None, 512)               0         \n",
      "                                                                 \n",
      " dense (Dense)               (None, 128)               65664     \n",
      "                                                                 \n",
      " dropout_1 (Dropout)         (None, 128)               0         \n",
      "                                                                 \n",
      " dense_1 (Dense)             (None, 6)                 774       \n",
      "                                                                 \n",
      "=================================================================\n",
      "Total params: 72,235,398\n",
      "Trainable params: 72,234,374\n",
      "Non-trainable params: 1,024\n",
      "_________________________________________________________________\n"
     ]
    }
   ],
   "source": [
    "# Define the model\n",
    "model = Sequential()\n",
    "\n",
    "# Embedding layer with a output dimension of 256 (converts words into dense vectors)\n",
    "model.add(Embedding(input_dim=vocabulary_size + 1, output_dim=256, input_length=seq_length))\n",
    "\n",
    "# Bidirectional LSTM layer\n",
    "model.add(Bidirectional(LSTM(256, return_sequences=False)))\n",
    "\n",
    "# Batch normalization\n",
    "model.add(BatchNormalization())\n",
    "\n",
    "# Dropout layer for regularization (50% probability)\n",
    "model.add(Dropout(0.5))\n",
    "\n",
    "# Dense layer with 128 units\n",
    "model.add(Dense(128, activation='relu'))\n",
    "\n",
    "# Dropout layer for regularization (50% probability)\n",
    "model.add(Dropout(0.5))\n",
    "\n",
    "# Output layer with the 6 emotion classes, using softmax activation for the multi-class classification\n",
    "model.add(Dense(6, activation='softmax'))\n",
    "\n",
    "# Compile the model using adam and sparse categorical crossentropy loss\n",
    "model.compile(optimizer='adam', loss='sparse_categorical_crossentropy', metrics=['accuracy'])\n",
    "\n",
    "# Display the model summary\n",
    "model.summary()"
   ]
  },
  {
   "cell_type": "markdown",
   "id": "169be4bc-101d-47fa-8f03-e1b33120fe5e",
   "metadata": {},
   "source": [
    "## Train model"
   ]
  },
  {
   "cell_type": "code",
   "execution_count": 7,
   "id": "150a2ec5-3f26-483f-ba07-7b29d81a16f1",
   "metadata": {},
   "outputs": [
    {
     "name": "stdout",
     "output_type": "stream",
     "text": [
      "Epoch 1/20\n",
      "20694/20695 [============================>.] - ETA: 0s - loss: 0.1331 - accuracy: 0.9532\n",
      "Epoch 1: val_accuracy improved from -inf to 0.97760, saving model to NLP_model.h5\n",
      "20695/20695 [==============================] - 1153s 56ms/step - loss: 0.1331 - accuracy: 0.9532 - val_loss: 0.0488 - val_accuracy: 0.9776 - lr: 0.0010\n",
      "Epoch 2/20\n",
      "20694/20695 [============================>.] - ETA: 0s - loss: 0.0612 - accuracy: 0.9757\n",
      "Epoch 2: val_accuracy improved from 0.97760 to 0.97822, saving model to NLP_model.h5\n",
      "20695/20695 [==============================] - 1145s 55ms/step - loss: 0.0612 - accuracy: 0.9757 - val_loss: 0.0480 - val_accuracy: 0.9782 - lr: 0.0010\n",
      "Epoch 3/20\n",
      "20694/20695 [============================>.] - ETA: 0s - loss: 0.0550 - accuracy: 0.9775\n",
      "Epoch 3: val_accuracy improved from 0.97822 to 0.97903, saving model to NLP_model.h5\n",
      "20695/20695 [==============================] - 1130s 55ms/step - loss: 0.0550 - accuracy: 0.9775 - val_loss: 0.0470 - val_accuracy: 0.9790 - lr: 0.0010\n",
      "Epoch 4/20\n",
      "20694/20695 [============================>.] - ETA: 0s - loss: 0.0521 - accuracy: 0.9778\n",
      "Epoch 4: val_accuracy did not improve from 0.97903\n",
      "20695/20695 [==============================] - 1132s 55ms/step - loss: 0.0521 - accuracy: 0.9778 - val_loss: 0.0471 - val_accuracy: 0.9790 - lr: 0.0010\n",
      "Epoch 5/20\n",
      "20694/20695 [============================>.] - ETA: 0s - loss: 0.0493 - accuracy: 0.9788\n",
      "Epoch 5: val_accuracy improved from 0.97903 to 0.97907, saving model to NLP_model.h5\n",
      "20695/20695 [==============================] - 1128s 55ms/step - loss: 0.0493 - accuracy: 0.9788 - val_loss: 0.0458 - val_accuracy: 0.9791 - lr: 0.0010\n",
      "Epoch 6/20\n",
      "20694/20695 [============================>.] - ETA: 0s - loss: 0.0476 - accuracy: 0.9791\n",
      "Epoch 6: val_accuracy improved from 0.97907 to 0.97910, saving model to NLP_model.h5\n",
      "20695/20695 [==============================] - 1142s 55ms/step - loss: 0.0476 - accuracy: 0.9791 - val_loss: 0.0494 - val_accuracy: 0.9791 - lr: 0.0010\n",
      "Epoch 7/20\n",
      "20694/20695 [============================>.] - ETA: 0s - loss: 0.0465 - accuracy: 0.9794\n",
      "Epoch 7: val_accuracy improved from 0.97910 to 0.97931, saving model to NLP_model.h5\n",
      "20695/20695 [==============================] - 1145s 55ms/step - loss: 0.0465 - accuracy: 0.9794 - val_loss: 0.0480 - val_accuracy: 0.9793 - lr: 0.0010\n",
      "Epoch 8/20\n",
      "20694/20695 [============================>.] - ETA: 0s - loss: 0.0459 - accuracy: 0.9794\n",
      "Epoch 8: ReduceLROnPlateau reducing learning rate to 0.0004000000189989805.\n",
      "\n",
      "Epoch 8: val_accuracy did not improve from 0.97931\n",
      "20695/20695 [==============================] - 1146s 55ms/step - loss: 0.0459 - accuracy: 0.9794 - val_loss: 0.0489 - val_accuracy: 0.9792 - lr: 0.0010\n",
      "Epoch 9/20\n",
      "20694/20695 [============================>.] - ETA: 0s - loss: 0.0382 - accuracy: 0.9812\n",
      "Epoch 9: val_accuracy improved from 0.97931 to 0.97938, saving model to NLP_model.h5\n",
      "20695/20695 [==============================] - 1138s 55ms/step - loss: 0.0382 - accuracy: 0.9812 - val_loss: 0.0489 - val_accuracy: 0.9794 - lr: 4.0000e-04\n",
      "Epoch 10/20\n",
      "20694/20695 [============================>.] - ETA: 0s - loss: 0.0353 - accuracy: 0.9814\n",
      "Epoch 10: val_accuracy improved from 0.97938 to 0.97946, saving model to NLP_model.h5\n",
      "20695/20695 [==============================] - 1133s 55ms/step - loss: 0.0353 - accuracy: 0.9814 - val_loss: 0.0507 - val_accuracy: 0.9795 - lr: 4.0000e-04\n",
      "Epoch 11/20\n",
      "20694/20695 [============================>.] - ETA: 0s - loss: 0.0337 - accuracy: 0.9820\n",
      "Epoch 11: ReduceLROnPlateau reducing learning rate to 0.00016000000759959222.\n",
      "\n",
      "Epoch 11: val_accuracy improved from 0.97946 to 0.97949, saving model to NLP_model.h5\n",
      "20695/20695 [==============================] - 1133s 55ms/step - loss: 0.0337 - accuracy: 0.9820 - val_loss: 0.0557 - val_accuracy: 0.9795 - lr: 4.0000e-04\n",
      "Epoch 12/20\n",
      "20694/20695 [============================>.] - ETA: 0s - loss: 0.0313 - accuracy: 0.9822\n",
      "Epoch 12: val_accuracy improved from 0.97949 to 0.97955, saving model to NLP_model.h5\n",
      "20695/20695 [==============================] - 1133s 55ms/step - loss: 0.0313 - accuracy: 0.9822 - val_loss: 0.0568 - val_accuracy: 0.9795 - lr: 1.6000e-04\n",
      "Epoch 13/20\n",
      "20694/20695 [============================>.] - ETA: 0s - loss: 0.0298 - accuracy: 0.9826\n",
      "Epoch 13: val_accuracy did not improve from 0.97955\n",
      "20695/20695 [==============================] - 1125s 54ms/step - loss: 0.0298 - accuracy: 0.9826 - val_loss: 0.0617 - val_accuracy: 0.9795 - lr: 1.6000e-04\n",
      "Epoch 14/20\n",
      "20694/20695 [============================>.] - ETA: 0s - loss: 0.0292 - accuracy: 0.9827\n",
      "Epoch 14: ReduceLROnPlateau reducing learning rate to 6.40000042039901e-05.\n",
      "\n",
      "Epoch 14: val_accuracy improved from 0.97955 to 0.97963, saving model to NLP_model.h5\n",
      "20695/20695 [==============================] - 1128s 54ms/step - loss: 0.0292 - accuracy: 0.9827 - val_loss: 0.0621 - val_accuracy: 0.9796 - lr: 1.6000e-04\n",
      "Epoch 15/20\n",
      "20694/20695 [============================>.] - ETA: 0s - loss: 0.0279 - accuracy: 0.9827\n",
      "Epoch 15: val_accuracy did not improve from 0.97963\n",
      "20695/20695 [==============================] - 1149s 56ms/step - loss: 0.0279 - accuracy: 0.9827 - val_loss: 0.0693 - val_accuracy: 0.9792 - lr: 6.4000e-05\n",
      "Epoch 16/20\n",
      "20694/20695 [============================>.] - ETA: 0s - loss: 0.0276 - accuracy: 0.9829\n",
      "Epoch 16: val_accuracy did not improve from 0.97963\n",
      "20695/20695 [==============================] - 1153s 56ms/step - loss: 0.0276 - accuracy: 0.9829 - val_loss: 0.0705 - val_accuracy: 0.9790 - lr: 6.4000e-05\n",
      "Epoch 17/20\n",
      "20694/20695 [============================>.] - ETA: 0s - loss: 0.0271 - accuracy: 0.9831Restoring model weights from the end of the best epoch: 14.\n",
      "\n",
      "Epoch 17: ReduceLROnPlateau reducing learning rate to 2.560000284574926e-05.\n",
      "\n",
      "Epoch 17: val_accuracy did not improve from 0.97963\n",
      "20695/20695 [==============================] - 1155s 56ms/step - loss: 0.0271 - accuracy: 0.9831 - val_loss: 0.0719 - val_accuracy: 0.9791 - lr: 6.4000e-05\n",
      "Epoch 17: early stopping\n"
     ]
    }
   ],
   "source": [
    "# Early stop \n",
    "early_stop = EarlyStopping(\n",
    "    monitor='val_accuracy',  # Value to monitor\n",
    "    patience=3,              # Wait for 3 epochs\n",
    "    verbose=1,               # Verbosity\n",
    "    mode=\"max\",              # Mode\n",
    "    restore_best_weights=True\n",
    ")\n",
    "\n",
    "# Learning rate reduction \n",
    "lr_reduction = ReduceLROnPlateau(\n",
    "    monitor='val_loss', # Value to monitor\n",
    "    factor=0.4,         # Reduction factor\n",
    "    patience=3,         # Wait for 5 epochs\n",
    "    verbose=1,          # Verbosity\n",
    "    mode='min',         # Mode\n",
    "    min_lr=1e-6         # Minimum learning rate\n",
    ") \n",
    "\n",
    "# Save the best model observed\n",
    "model_checkpoint = ModelCheckpoint(\n",
    "    'NLP_model.h5',          # Model export filename\n",
    "    monitor=\"val_accuracy\",  # Value to monitor\n",
    "    verbose=1,               # Verbosity\n",
    "    mode=\"max\",              # Mode\n",
    "    save_best_only=True      # Save when the best model is observed\n",
    ")\n",
    "\n",
    "# Train the model\n",
    "history = model.fit(\n",
    "    X_train,\n",
    "    y_train,\n",
    "    batch_size=32,\n",
    "    epochs=20,\n",
    "    callbacks=[early_stop, lr_reduction, model_checkpoint],  \n",
    "    validation_data=(X_test, y_test)\n",
    ")"
   ]
  },
  {
   "cell_type": "markdown",
   "id": "04e3c881-68e5-4f1a-8012-5e8350ea17ae",
   "metadata": {},
   "source": [
    "## Evaluate model"
   ]
  },
  {
   "cell_type": "markdown",
   "id": "b2e1e09e-ebd8-4147-b3fd-407cbd690dcb",
   "metadata": {},
   "source": [
    "### Accuracy and Loss Plot"
   ]
  },
  {
   "cell_type": "code",
   "execution_count": 8,
   "id": "f31eeb25-0551-499b-a0f1-3e70eb6b45eb",
   "metadata": {},
   "outputs": [
    {
     "data": {
      "image/png": "[encoded data removed]",
      "text/plain": [
       "<Figure size 800x400 with 2 Axes>"
      ]
     },
     "metadata": {},
     "output_type": "display_data"
    }
   ],
   "source": [
    "plt.figure(figsize=(8, 4))\n",
    "\n",
    "# Accuracy plot\n",
    "plt.subplot(1, 2, 1)\n",
    "plt.plot(history.history['accuracy'], label='Accuracy (Train)')\n",
    "plt.plot(history.history['val_accuracy'], label='Accuracy (Validation)')\n",
    "plt.title('Accuracy')\n",
    "plt.xlabel('Epochs')\n",
    "plt.legend(prop={'size': 8})\n",
    "\n",
    "# Loss plot\n",
    "plt.subplot(1, 2, 2)\n",
    "plt.plot(history.history['loss'], label='Loss (Train)')\n",
    "plt.plot(history.history['val_loss'], label='Loss (Validation)')\n",
    "plt.title('Loss')\n",
    "plt.xlabel('Epochs')\n",
    "plt.legend(prop={'size': 8})\n",
    "\n",
    "plt.tight_layout()\n",
    "plt.show()"
   ]
  },
  {
   "cell_type": "markdown",
   "id": "c0eb17af-d7c6-45c5-8198-1c81084ae5dc",
   "metadata": {},
   "source": [
    "### Calculate metrics"
   ]
  },
  {
   "cell_type": "code",
   "execution_count": 10,
   "id": "20e4278e-389a-4560-9ef6-2a1f89fa5659",
   "metadata": {},
   "outputs": [
    {
     "name": "stdout",
     "output_type": "stream",
     "text": [
      "5174/5174 [==============================] - 46s 9ms/step - loss: 0.0621 - accuracy: 0.9796\n",
      "5174/5174 [==============================] - 39s 8ms/step\n",
      "Test Accuracy: 0.9796\n",
      "Test Loss: 0.0621\n",
      "Precision: 0.9801\n",
      "Recall: 0.9796\n",
      "F1 Score: 0.9794\n"
     ]
    }
   ],
   "source": [
    "test_loss, test_accuracy = model.evaluate(X_test, y_test)\n",
    "\n",
    "# Test predictions\n",
    "y_pred = model.predict(X_test)\n",
    "y_pred = np.argmax(y_pred, axis=1)\n",
    "\n",
    "# Calculate metrics\n",
    "precision = precision_score(y_test, y_pred, average='weighted')  # Precision\n",
    "recall = recall_score(y_test, y_pred, average='weighted')        # Recall\n",
    "f1 = f1_score(y_test, y_pred, average='weighted')                # F1 score\n",
    "\n",
    "# Print results\n",
    "print(f\"Test Accuracy: {test_accuracy:.4f}\")\n",
    "print(f\"Test Loss: {test_loss:.4f}\")\n",
    "print(f\"Precision: {precision:.4f}\")\n",
    "print(f\"Recall: {recall:.4f}\")\n",
    "print(f\"F1 Score: {f1:.4f}\")"
   ]
  },
  {
   "cell_type": "markdown",
   "id": "696931dd-0ec2-4a13-af9d-4ea8a5649716",
   "metadata": {},
   "source": [
    "### Confusion matrix"
   ]
  },
  {
   "cell_type": "code",
   "execution_count": 11,
   "id": "a9d9dd4c-5cc1-4343-bc8f-ea9c9cebb71f",
   "metadata": {},
   "outputs": [
    {
     "data": {
      "image/png": "[encoded data removed]",
      "text/plain": [
       "<Figure size 800x600 with 2 Axes>"
      ]
     },
     "metadata": {},
     "output_type": "display_data"
    }
   ],
   "source": [
    "# Confusion Matrix\n",
    "cm = confusion_matrix(y_test, y_pred)\n",
    "\n",
    "# Plot confusion matrix\n",
    "plt.figure(figsize=(8, 6))\n",
    "sns.heatmap(cm, annot=True, fmt='d')\n",
    "plt.xlabel('Predicted labels')\n",
    "plt.ylabel('True labels')\n",
    "plt.title('Confusion Matrix')\n",
    "plt.show()"
   ]
  },
  {
   "cell_type": "markdown",
   "id": "da39fe4a-c8df-407d-b2b6-eea41de96f2a",
   "metadata": {},
   "source": [
    "### Classification report"
   ]
  },
  {
   "cell_type": "code",
   "execution_count": 12,
   "id": "29d02a59-973e-42da-a7bf-e9201753d44f",
   "metadata": {},
   "outputs": [
    {
     "name": "stdout",
     "output_type": "stream",
     "text": [
      "              precision    recall  f1-score   support\n",
      "\n",
      "           0       0.99      0.98      0.99      5338\n",
      "           1       0.98      0.85      0.91     11725\n",
      "           2       0.95      0.99      0.97     25306\n",
      "           3       0.99      1.00      1.00     64783\n",
      "           4       0.99      0.98      0.99     50246\n",
      "           5       0.90      0.96      0.93      8155\n",
      "\n",
      "    accuracy                           0.98    165553\n",
      "   macro avg       0.97      0.96      0.96    165553\n",
      "weighted avg       0.98      0.98      0.98    165553\n",
      "\n"
     ]
    }
   ],
   "source": [
    "# Print classification report\n",
    "print(classification_report(y_test, y_pred))"
   ]
  },
  {
   "cell_type": "markdown",
   "id": "65631980-b7ea-495c-9e06-62f3a7dc39cc",
   "metadata": {},
   "source": [
    "## Conclusion"
   ]
  },
  {
   "cell_type": "code",
   "execution_count": null,
   "id": "58f6c2b1-89e6-4a6d-95bb-6dd647d5e325",
   "metadata": {},
   "outputs": [],
   "source": []
  }
 ],
 "metadata": {
  "kernelspec": {
   "display_name": "Tensorflow GPU Kernel 2",
   "language": "python",
   "name": "tensor-gpu"
  },
  "language_info": {
   "codemirror_mode": {
    "name": "ipython",
    "version": 3
   },
   "file_extension": ".py",
   "mimetype": "text/x-python",
   "name": "python",
   "nbconvert_exporter": "python",
   "pygments_lexer": "ipython3",
   "version": "3.10.15"
  }
 },
 "nbformat": 4,
 "nbformat_minor": 5
}
