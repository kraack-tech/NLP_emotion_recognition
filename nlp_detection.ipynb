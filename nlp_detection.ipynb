{
 "cells": [
  {
   "cell_type": "markdown",
   "id": "e5596ab6-197f-497e-9e73-ffe8f03c44a4",
   "metadata": {},
   "source": [
    "# NLP Speech Sentiment Analysis: Detection"
   ]
  },
  {
   "cell_type": "markdown",
   "id": "94c01b74-8bb4-4e88-92ae-3b30acd3ca6f",
   "metadata": {},
   "source": [
    "#### Import libraries"
   ]
  },
  {
   "cell_type": "code",
   "execution_count": 1,
   "id": "931fc45d-5454-4380-a700-213a8354460c",
   "metadata": {},
   "outputs": [],
   "source": [
    "import numpy as np\n",
    "import re\n",
    "import pickle\n",
    "import nltk\n",
    "from nltk.corpus import stopwords\n",
    "from tensorflow.keras.models import load_model\n",
    "from tensorflow.keras.preprocessing.sequence import pad_sequences\n",
    "import torch\n",
    "import whisper"
   ]
  },
  {
   "cell_type": "markdown",
   "id": "f700c30a-c15c-40bf-90c1-bc7e9935845a",
   "metadata": {},
   "source": [
    "## Helper functions"
   ]
  },
  {
   "cell_type": "markdown",
   "id": "d7d30d3f-8d96-4656-a3ee-fb84044649bb",
   "metadata": {},
   "source": [
    "### Text processing function"
   ]
  },
  {
   "cell_type": "code",
   "execution_count": 2,
   "id": "fcd99b71-960c-4b92-a249-50d8bfb363a8",
   "metadata": {},
   "outputs": [],
   "source": [
    "# Preprocesses text strings\n",
    "def preprocess_text(text, stop_words):\n",
    "    # Remove URLs\n",
    "    text = re.sub(r'https?://\\S+|www\\.\\S+', '', text)\n",
    "    \n",
    "    # Remove non-alphabetic characters and numbers\n",
    "    text = re.sub(r'[^a-zA-Z\\s]', '', text)\n",
    "    \n",
    "    # Convert to lowercase\n",
    "    text = text.lower()\n",
    "    \n",
    "    # Replace multiple spaces with single space\n",
    "    text = re.sub(r'\\s+', ' ', text).strip()\n",
    "    \n",
    "    # Remove input stopwords\n",
    "    words = text.split()\n",
    "    filtered_words = [word for word in words if word not in stop_words]\n",
    "    \n",
    "    return ' '.join(filtered_words)"
   ]
  },
  {
   "cell_type": "markdown",
   "id": "b2ad79ec-4ab0-40b9-b0ed-cf5b690fd182",
   "metadata": {},
   "source": [
    "## Emotion detection using model pre-trained "
   ]
  },
  {
   "cell_type": "code",
   "execution_count": 3,
   "id": "8b4461c6-3e04-4718-920d-9cbb0227e7aa",
   "metadata": {},
   "outputs": [],
   "source": [
    "# Load the tokenizer pickle file (created with the 'nlp_model.ipynb' notebook)\n",
    "with open('tokenizer.pkl', 'rb') as file:\n",
    "    tokenizer = pickle.load(file)"
   ]
  },
  {
   "cell_type": "code",
   "execution_count": 4,
   "id": "38b31a0d-4387-4711-bdaf-bc1d8176ad5c",
   "metadata": {},
   "outputs": [],
   "source": [
    "# Define stopwords\n",
    "nltk_stop_words = set(stopwords.words('english')) # NLTK stopwords\n",
    "custom_stop_words = { # Custom stopwords \n",
    "    \"im\", 'days', 'well', 'quite', 'look', 'find', 'come', 'year','lot', 'part', 'take',\n",
    "    'href', 'every', 'able', 'though','left', 'need', 'new', 'http', 'sure', 'around', 'say',\n",
    "    'also', 'work', 'today', 'pretty', 'feels', 'going', 'feelings', 'back', 'way', 'always',\n",
    "    'things', \"feel\", \"thats\", \"one\", 'actually', 'right', 'many', 'thing', 'seen', 'thought',\n",
    "    'believe', 'didnt', 'want', 'time', 'makes', \"even\", \"day\", \"go\", \"made\", \"yeah\", \"man\", \n",
    "    'youre', 'ive', 'much', 'good', \"know\", 'see', 'cant', 'never', \"got\", 'think', \"would\",\n",
    "    \"still\", \"dont\", \"people\", \"like\", \"really\", \"get\", \"name\", \"i\", \"you\", \"really\", \"name\",\n",
    "    \"make\", 'could', \"oh\", 'something', 'little', 'bit', 'life', 'feeling', 'something', 'home',\n",
    "    'enough', 'sometimes', 'important',\n",
    "    \n",
    "}\n",
    "# Join NLTK and Custom stopwords\n",
    "stop_words_nltk = nltk_stop_words.union(custom_stop_words)"
   ]
  },
  {
   "cell_type": "code",
   "execution_count": 5,
   "id": "d594eb7a-975f-42aa-978f-db226b41b254",
   "metadata": {},
   "outputs": [],
   "source": [
    "# Load pre-trained from 'nlp_model.ipynb'\n",
    "emotion_model = load_model(\"NLP_model.h5\")"
   ]
  },
  {
   "cell_type": "code",
   "execution_count": 6,
   "id": "1d07725a-084e-42f8-bdca-0fd88d18fad8",
   "metadata": {},
   "outputs": [
    {
     "name": "stderr",
     "output_type": "stream",
     "text": [
      "C:\\Users\\e2u\\anaconda3\\envs\\tensor-gpu\\lib\\site-packages\\whisper\\__init__.py:150: FutureWarning: You are using `torch.load` with `weights_only=False` (the current default value), which uses the default pickle module implicitly. It is possible to construct malicious pickle data which will execute arbitrary code during unpickling (See https://github.com/pytorch/pytorch/blob/main/SECURITY.md#untrusted-models for more details). In a future release, the default value for `weights_only` will be flipped to `True`. This limits the functions that could be executed during unpickling. Arbitrary objects will no longer be allowed to be loaded via this mode unless they are explicitly allowlisted by the user via `torch.serialization.add_safe_globals`. We recommend you start setting `weights_only=True` for any use case where you don't have full control of the loaded file. Please open an issue on GitHub for any issues related to this experimental feature.\n",
      "  checkpoint = torch.load(fp, map_location=device)\n"
     ]
    }
   ],
   "source": [
    "# Load Whisper model for speech-to-text conversion\n",
    "whisper_model = whisper.load_model(\"base\")"
   ]
  },
  {
   "cell_type": "code",
   "execution_count": 7,
   "id": "065de231-74d6-4657-95e3-a28b662bca44",
   "metadata": {},
   "outputs": [],
   "source": [
    "# Classifies emotions of audio files using speech-to-text and the pre-trained model\n",
    "def classify_audio_emotion(audio_file_path, whisper_model, emotion_model, tokenizer, stop_words, max_len=178, threshold=0.5):\n",
    "    # Speech-to-text using the Whisper library\n",
    "    text_transcribed = whisper_model.transcribe(audio_file_path)\n",
    "    text_transcribed = text_transcribed.get(\"text\", \"\").strip()\n",
    "    print(\"======  Transcribed Text (speech-to-text ======\")\n",
    "    print( text_transcribed)\n",
    "\n",
    "    # Preprocess text (clean and remove stopwords)\n",
    "    text_processed = preprocess_text(text_transcribed, stop_words)\n",
    "\n",
    "    # Text tokenize using the loaded tokenizer\n",
    "    text_tokenized = tokenizer.texts_to_sequences([text_processed])\n",
    "\n",
    "    # Validate the tokenized text\n",
    "    if text_tokenized and all(token is not None for token in text_tokenized[0]):\n",
    "        # Pad the sequence to match the length used during training\n",
    "        text_tokenized_seq = pad_sequences(text_tokenized, maxlen=max_len, padding='post', truncating='post')\n",
    "\n",
    "        # Predict the emotion using the pre-trained emotion model\n",
    "        predictions = emotion_model.predict(text_tokenized_seq, verbose=0)\n",
    "\n",
    "        # Define the emotion map\n",
    "        emotion_map = {0: 'disgust', 1: 'fear', 2: 'anger', 3: 'joy', 4: 'sadness', 5: 'surprise'}\n",
    "\n",
    "        # Obtain index of emotion with the highest probability\n",
    "        prediction_i = np.argmax(predictions)          # Index of emotion with highest probability\n",
    "        prediction_max = predictions[0][prediction_i]  # probability value\n",
    "        \n",
    "        # Display predicted probabilities\n",
    "        print(\"====== Predicted Probabilities ======\")\n",
    "        for emotion, prob in zip(emotion_map.values(), predictions[0]):\n",
    "            print(f\"{emotion}: {prob:.6f}\")\n",
    "            \n",
    "        # Determine the predicted emotion based on the threshold (i.e., unknown if all probabilities are below)\n",
    "        if prediction_max >= threshold:\n",
    "            predicted_emotion = emotion_map[prediction_i]\n",
    "        else:\n",
    "            predicted_emotion = \"unknown\"\n",
    "            \n",
    "        # Display emotion prediction\n",
    "        print(\"======  Prediction ======\")\n",
    "        print(\"Emotion:\", predicted_emotion)\n",
    "    else:\n",
    "        print(\"Error: Text could not be tokenized\")"
   ]
  },
  {
   "cell_type": "markdown",
   "id": "cdb6a77b-0b42-46fe-892f-f00660aef6f4",
   "metadata": {},
   "source": [
    "## NLP emotion detection using audio"
   ]
  },
  {
   "cell_type": "markdown",
   "id": "812b1cc4-e0f9-4b3f-b5d5-ce2473a9a78e",
   "metadata": {},
   "source": [
    "### Disgust [0]"
   ]
  },
  {
   "cell_type": "code",
   "execution_count": 8,
   "id": "c55f7667-4033-4df0-9a6f-92edb078babe",
   "metadata": {},
   "outputs": [
    {
     "name": "stderr",
     "output_type": "stream",
     "text": [
      "C:\\Users\\e2u\\anaconda3\\envs\\tensor-gpu\\lib\\site-packages\\whisper\\transcribe.py:126: UserWarning: FP16 is not supported on CPU; using FP32 instead\n",
      "  warnings.warn(\"FP16 is not supported on CPU; using FP32 instead\")\n"
     ]
    },
    {
     "name": "stdout",
     "output_type": "stream",
     "text": [
      "======  Transcribed Text (speech-to-text ======\n",
      "I am disgusted by that awful smell.\n",
      "====== Predicted Probabilities ======\n",
      "disgust: 1.000000\n",
      "fear: 0.000000\n",
      "anger: 0.000000\n",
      "joy: 0.000000\n",
      "sadness: 0.000000\n",
      "surprise: 0.000000\n",
      "======  Prediction ======\n",
      "Emotion: disgust\n"
     ]
    }
   ],
   "source": [
    "# Prediction for disgust audio file 1\n",
    "classify_audio_emotion(\n",
    "    audio_file_path=\"data/audio/disgust.wav\",\n",
    "    whisper_model=whisper_model,\n",
    "    emotion_model=emotion_model,\n",
    "    tokenizer=tokenizer,\n",
    "    stop_words=stop_words_nltk,\n",
    "    max_len=178,\n",
    "    threshold=0.5\n",
    ")"
   ]
  },
  {
   "cell_type": "code",
   "execution_count": 9,
   "id": "2500b992-8ef4-4456-852e-74acad028e1b",
   "metadata": {},
   "outputs": [
    {
     "name": "stdout",
     "output_type": "stream",
     "text": [
      "======  Transcribed Text (speech-to-text ======\n",
      "I am grossed out by this awful place.\n",
      "====== Predicted Probabilities ======\n",
      "disgust: 1.000000\n",
      "fear: 0.000000\n",
      "anger: 0.000000\n",
      "joy: 0.000000\n",
      "sadness: 0.000000\n",
      "surprise: 0.000000\n",
      "======  Prediction ======\n",
      "Emotion: disgust\n"
     ]
    }
   ],
   "source": [
    "# Prediction for disgust audio file 2\n",
    "classify_audio_emotion(\n",
    "    audio_file_path=\"data/audio/disgust2.wav\",\n",
    "    whisper_model=whisper_model,\n",
    "    emotion_model=emotion_model,\n",
    "    tokenizer=tokenizer,\n",
    "    stop_words=stop_words_nltk,\n",
    "    max_len=178,\n",
    "    threshold=0.5\n",
    ")"
   ]
  },
  {
   "cell_type": "markdown",
   "id": "b53e3779-6bde-4bac-b29b-2d3971d8348e",
   "metadata": {},
   "source": [
    "### Fear [1]"
   ]
  },
  {
   "cell_type": "code",
   "execution_count": 10,
   "id": "9f9fcb59-52a4-458a-a258-74353e422fff",
   "metadata": {
    "scrolled": true
   },
   "outputs": [
    {
     "name": "stdout",
     "output_type": "stream",
     "text": [
      "======  Transcribed Text (speech-to-text ======\n",
      "I am scared to death by this haunted house.\n",
      "====== Predicted Probabilities ======\n",
      "disgust: 0.000000\n",
      "fear: 1.000000\n",
      "anger: 0.000000\n",
      "joy: 0.000000\n",
      "sadness: 0.000000\n",
      "surprise: 0.000000\n",
      "======  Prediction ======\n",
      "Emotion: fear\n"
     ]
    }
   ],
   "source": [
    "# Prediction for fear audio file 1\n",
    "classify_audio_emotion(\n",
    "    audio_file_path=\"data/audio/fear1.wav\",\n",
    "    whisper_model=whisper_model,\n",
    "    emotion_model=emotion_model,\n",
    "    tokenizer=tokenizer,\n",
    "    stop_words=stop_words_nltk,\n",
    "    max_len=178,\n",
    "    threshold=0.5\n",
    ")"
   ]
  },
  {
   "cell_type": "code",
   "execution_count": 11,
   "id": "3082261b-4f97-4cb9-b455-4a28e2e79e63",
   "metadata": {},
   "outputs": [
    {
     "name": "stdout",
     "output_type": "stream",
     "text": [
      "======  Transcribed Text (speech-to-text ======\n",
      "There is a tense feeling when name is around.\n",
      "====== Predicted Probabilities ======\n",
      "disgust: 0.000004\n",
      "fear: 0.999744\n",
      "anger: 0.000021\n",
      "joy: 0.000212\n",
      "sadness: 0.000019\n",
      "surprise: 0.000001\n",
      "======  Prediction ======\n",
      "Emotion: fear\n"
     ]
    }
   ],
   "source": [
    "# Prediction for fear audio file 2\n",
    "classify_audio_emotion(\n",
    "    audio_file_path=\"data/audio/fear2.wav\",\n",
    "    whisper_model=whisper_model,\n",
    "    emotion_model=emotion_model,\n",
    "    tokenizer=tokenizer,\n",
    "    stop_words=stop_words_nltk,\n",
    "    max_len=178,\n",
    "    threshold=0.5\n",
    ")"
   ]
  },
  {
   "cell_type": "markdown",
   "id": "048c74eb-b16b-47aa-b152-e9ecd6c43092",
   "metadata": {},
   "source": [
    "### Anger [2]"
   ]
  },
  {
   "cell_type": "code",
   "execution_count": 12,
   "id": "7835775f-b540-4e8f-88f5-d8679e498f32",
   "metadata": {},
   "outputs": [
    {
     "name": "stdout",
     "output_type": "stream",
     "text": [
      "======  Transcribed Text (speech-to-text ======\n",
      "I am outraged about the mad news today.\n",
      "====== Predicted Probabilities ======\n",
      "disgust: 0.000000\n",
      "fear: 0.000000\n",
      "anger: 1.000000\n",
      "joy: 0.000000\n",
      "sadness: 0.000000\n",
      "surprise: 0.000000\n",
      "======  Prediction ======\n",
      "Emotion: anger\n"
     ]
    }
   ],
   "source": [
    "# Prediction for anger audio file 1\n",
    "classify_audio_emotion(\n",
    "    audio_file_path=\"data/audio/angry1.wav\",\n",
    "    whisper_model=whisper_model,\n",
    "    emotion_model=emotion_model,\n",
    "    tokenizer=tokenizer,\n",
    "    stop_words=stop_words_nltk,\n",
    "    max_len=178,\n",
    "    threshold=0.5\n",
    ")"
   ]
  },
  {
   "cell_type": "code",
   "execution_count": 13,
   "id": "d454381b-b107-43b2-b493-41c372a361e1",
   "metadata": {},
   "outputs": [
    {
     "name": "stdout",
     "output_type": "stream",
     "text": [
      "======  Transcribed Text (speech-to-text ======\n",
      "I am upset with all the hostile people on my street.\n",
      "====== Predicted Probabilities ======\n",
      "disgust: 0.000000\n",
      "fear: 0.000000\n",
      "anger: 1.000000\n",
      "joy: 0.000000\n",
      "sadness: 0.000000\n",
      "surprise: 0.000000\n",
      "======  Prediction ======\n",
      "Emotion: anger\n"
     ]
    }
   ],
   "source": [
    "# Prediction for anger audio file 2\n",
    "classify_audio_emotion(\n",
    "    audio_file_path=\"data/audio/angry2.wav\",\n",
    "    whisper_model=whisper_model,\n",
    "    emotion_model=emotion_model,\n",
    "    tokenizer=tokenizer,\n",
    "    stop_words=stop_words_nltk,\n",
    "    max_len=178,\n",
    "    threshold=0.5\n",
    ")"
   ]
  },
  {
   "cell_type": "markdown",
   "id": "225fc347-b907-40e9-801a-41c565f9af25",
   "metadata": {},
   "source": [
    "### Joy [3]"
   ]
  },
  {
   "cell_type": "code",
   "execution_count": 14,
   "id": "ea8d41be-c5a9-4c67-a950-86964d5d08bf",
   "metadata": {},
   "outputs": [
    {
     "name": "stdout",
     "output_type": "stream",
     "text": [
      "======  Transcribed Text (speech-to-text ======\n",
      "I am quite comfortable in my current situation.\n",
      "====== Predicted Probabilities ======\n",
      "disgust: 0.000000\n",
      "fear: 0.000000\n",
      "anger: 0.000000\n",
      "joy: 1.000000\n",
      "sadness: 0.000000\n",
      "surprise: 0.000000\n",
      "======  Prediction ======\n",
      "Emotion: joy\n"
     ]
    }
   ],
   "source": [
    "# Prediction for happiness audio file 1\n",
    "classify_audio_emotion(\n",
    "    audio_file_path=\"data/audio/joy1.wav\",\n",
    "    whisper_model=whisper_model,\n",
    "    emotion_model=emotion_model,\n",
    "    tokenizer=tokenizer,\n",
    "    stop_words=stop_words_nltk,\n",
    "    max_len=178,\n",
    "    threshold=0.5\n",
    ")"
   ]
  },
  {
   "cell_type": "code",
   "execution_count": 22,
   "id": "2d75baaa-46ae-4b05-8cb7-1182c15ca17b",
   "metadata": {},
   "outputs": [
    {
     "name": "stdout",
     "output_type": "stream",
     "text": [
      "======  Transcribed Text (speech-to-text ======\n",
      "I played a bad game today, but overall I'm happy about the results.\n",
      "====== Predicted Probabilities ======\n",
      "disgust: 0.000000\n",
      "fear: 0.000000\n",
      "anger: 0.000000\n",
      "joy: 1.000000\n",
      "sadness: 0.000000\n",
      "surprise: 0.000000\n",
      "======  Prediction ======\n",
      "Emotion: joy\n"
     ]
    }
   ],
   "source": [
    "# Prediction for happiness audio file 2\n",
    "classify_audio_emotion(\n",
    "    audio_file_path=\"data/audio/joy2.wav\",\n",
    "    whisper_model=whisper_model,\n",
    "    emotion_model=emotion_model,\n",
    "    tokenizer=tokenizer,\n",
    "    stop_words=stop_words_nltk,\n",
    "    max_len=178,\n",
    "    threshold=0.5\n",
    ")"
   ]
  },
  {
   "cell_type": "markdown",
   "id": "da4bd9c8-735f-4fea-ac6c-c0ef104239e4",
   "metadata": {},
   "source": [
    "### Sadness [4]"
   ]
  },
  {
   "cell_type": "code",
   "execution_count": 16,
   "id": "05e3a15f-9b47-468a-b2e4-3ba1d1183c8a",
   "metadata": {},
   "outputs": [
    {
     "name": "stdout",
     "output_type": "stream",
     "text": [
      "======  Transcribed Text (speech-to-text ======\n",
      "I feel alone in this town.\n",
      "====== Predicted Probabilities ======\n",
      "disgust: 0.000005\n",
      "fear: 0.053434\n",
      "anger: 0.010556\n",
      "joy: 0.000504\n",
      "sadness: 0.935500\n",
      "surprise: 0.000000\n",
      "======  Prediction ======\n",
      "Emotion: sadness\n"
     ]
    }
   ],
   "source": [
    "# Prediction for sadness audio file 1\n",
    "classify_audio_emotion(\n",
    "    audio_file_path=\"data/audio/sad1.wav\",\n",
    "    whisper_model=whisper_model,\n",
    "    emotion_model=emotion_model,\n",
    "    tokenizer=tokenizer,\n",
    "    stop_words=stop_words_nltk,\n",
    "    max_len=178,\n",
    "    threshold=0.5\n",
    ")"
   ]
  },
  {
   "cell_type": "code",
   "execution_count": 17,
   "id": "e7b469ca-1ce9-4212-aa63-baa4443c5d33",
   "metadata": {},
   "outputs": [
    {
     "name": "stdout",
     "output_type": "stream",
     "text": [
      "======  Transcribed Text (speech-to-text ======\n",
      "I am absolutely devastated about today's stock market.\n",
      "====== Predicted Probabilities ======\n",
      "disgust: 0.004804\n",
      "fear: 0.075597\n",
      "anger: 0.002202\n",
      "joy: 0.014012\n",
      "sadness: 0.900289\n",
      "surprise: 0.003096\n",
      "======  Prediction ======\n",
      "Emotion: sadness\n"
     ]
    }
   ],
   "source": [
    "# Prediction for sadness audio file 2\n",
    "classify_audio_emotion(\n",
    "    audio_file_path=\"data/audio/sad2.wav\",\n",
    "    whisper_model=whisper_model,\n",
    "    emotion_model=emotion_model,\n",
    "    tokenizer=tokenizer,\n",
    "    stop_words=stop_words_nltk,\n",
    "    max_len=178,\n",
    "    threshold=0.5\n",
    ")"
   ]
  },
  {
   "cell_type": "markdown",
   "id": "a5da49ce-95e9-44a0-8876-97938f57cb26",
   "metadata": {},
   "source": [
    "### Surprise [5]"
   ]
  },
  {
   "cell_type": "code",
   "execution_count": 18,
   "id": "c1b1143f-b973-4773-b9e5-911b3749e13d",
   "metadata": {},
   "outputs": [
    {
     "name": "stdout",
     "output_type": "stream",
     "text": [
      "======  Transcribed Text (speech-to-text ======\n",
      "I'm a bit startled by the results.\n",
      "====== Predicted Probabilities ======\n",
      "disgust: 0.000001\n",
      "fear: 0.000253\n",
      "anger: 0.000000\n",
      "joy: 0.000004\n",
      "sadness: 0.000018\n",
      "surprise: 0.999724\n",
      "======  Prediction ======\n",
      "Emotion: surprise\n"
     ]
    }
   ],
   "source": [
    "# Prediction for surprise audio file 1\n",
    "classify_audio_emotion(\n",
    "    audio_file_path=\"data/audio/surprise1.wav\",\n",
    "    whisper_model=whisper_model,\n",
    "    emotion_model=emotion_model,\n",
    "    tokenizer=tokenizer,\n",
    "    stop_words=stop_words_nltk,\n",
    "    max_len=178,\n",
    "    threshold=0.5\n",
    ")"
   ]
  },
  {
   "cell_type": "code",
   "execution_count": 19,
   "id": "19c821b3-734e-40ea-8ee1-74e3e8138d32",
   "metadata": {},
   "outputs": [
    {
     "name": "stdout",
     "output_type": "stream",
     "text": [
      "======  Transcribed Text (speech-to-text ======\n",
      "The moon landing was unbelievable.\n",
      "====== Predicted Probabilities ======\n",
      "disgust: 0.000000\n",
      "fear: 0.000000\n",
      "anger: 0.000000\n",
      "joy: 0.000000\n",
      "sadness: 0.000001\n",
      "surprise: 0.999998\n",
      "======  Prediction ======\n",
      "Emotion: surprise\n"
     ]
    }
   ],
   "source": [
    "# Prediction for surprise audio file 2\n",
    "classify_audio_emotion(\n",
    "    audio_file_path=\"data/audio/surprise2.wav\",\n",
    "    whisper_model=whisper_model,\n",
    "    emotion_model=emotion_model,\n",
    "    tokenizer=tokenizer,\n",
    "    stop_words=stop_words_nltk,\n",
    "    max_len=178,\n",
    "    threshold=0.5\n",
    ")"
   ]
  },
  {
   "cell_type": "markdown",
   "id": "c2ee9685-6213-46db-94fc-131acfe9a8ed",
   "metadata": {},
   "source": [
    "### Neutral: Categorized as \"unknown\""
   ]
  },
  {
   "cell_type": "markdown",
   "id": "44d5bd37-a6ec-4102-bab7-2ca3d1f79b32",
   "metadata": {},
   "source": [
    "When no predominant emotion is detected, i.e., below the threshold, the prediction funciton should classificy the emotion as \"unknown\""
   ]
  },
  {
   "cell_type": "code",
   "execution_count": 20,
   "id": "bef66462-1ef5-4e35-a3d6-79a6aa892b72",
   "metadata": {},
   "outputs": [
    {
     "name": "stdout",
     "output_type": "stream",
     "text": [
      "======  Transcribed Text (speech-to-text ======\n",
      "it is raining outside.\n",
      "====== Predicted Probabilities ======\n",
      "disgust: 0.013432\n",
      "fear: 0.225701\n",
      "anger: 0.250112\n",
      "joy: 0.217455\n",
      "sadness: 0.218968\n",
      "surprise: 0.074332\n",
      "======  Prediction ======\n",
      "Emotion: unknown\n"
     ]
    }
   ],
   "source": [
    "# Prediction for neutral audio file 1\n",
    "classify_audio_emotion(\n",
    "    audio_file_path=\"data/audio/neutral1.wav\",\n",
    "    whisper_model=whisper_model,\n",
    "    emotion_model=emotion_model,\n",
    "    tokenizer=tokenizer,\n",
    "    stop_words=stop_words_nltk,\n",
    "    max_len=178,\n",
    "    threshold=0.5\n",
    ")"
   ]
  },
  {
   "cell_type": "code",
   "execution_count": 21,
   "id": "6d8d8b77-c2f9-4ab1-b629-b57a28ae02a9",
   "metadata": {},
   "outputs": [
    {
     "name": "stdout",
     "output_type": "stream",
     "text": [
      "======  Transcribed Text (speech-to-text ======\n",
      "The coffee is ready.\n",
      "====== Predicted Probabilities ======\n",
      "disgust: 0.013081\n",
      "fear: 0.159300\n",
      "anger: 0.165829\n",
      "joy: 0.351188\n",
      "sadness: 0.179508\n",
      "surprise: 0.131094\n",
      "======  Prediction ======\n",
      "Emotion: unknown\n"
     ]
    }
   ],
   "source": [
    "# Prediction for neutral audio file 2\n",
    "classify_audio_emotion(\n",
    "    audio_file_path=\"data/audio/neutral2.wav\",\n",
    "    whisper_model=whisper_model,\n",
    "    emotion_model=emotion_model,\n",
    "    tokenizer=tokenizer,\n",
    "    stop_words=stop_words_nltk,\n",
    "    max_len=178,\n",
    "    threshold=0.5\n",
    ")"
   ]
  },
  {
   "cell_type": "markdown",
   "id": "2111527e-57d5-47c3-bfb1-f2e097923c74",
   "metadata": {},
   "source": [
    "## Conclusion"
   ]
  },
  {
   "cell_type": "markdown",
   "id": "383b0013-8191-4ba1-b0b0-56840ab1638c",
   "metadata": {},
   "source": [
    "The model correctly detects the emotional state based on the short sentences of the audio files. However, in future iterations it may be advisable to include a neutral or unknown classification when training the model, as currently the neutral class relies solely on the threshold, which depends only on the six trained labels, thus introducing bias if all or most emotions contain 0 probability and one or a few contain very little probability."
   ]
  }
 ],
 "metadata": {
  "kernelspec": {
   "display_name": "Tensorflow GPU Kernel 2",
   "language": "python",
   "name": "tensor-gpu"
  },
  "language_info": {
   "codemirror_mode": {
    "name": "ipython",
    "version": 3
   },
   "file_extension": ".py",
   "mimetype": "text/x-python",
   "name": "python",
   "nbconvert_exporter": "python",
   "pygments_lexer": "ipython3",
   "version": "3.10.15"
  }
 },
 "nbformat": 4,
 "nbformat_minor": 5
}
